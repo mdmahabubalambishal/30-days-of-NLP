{
  "nbformat": 4,
  "nbformat_minor": 0,
  "metadata": {
    "colab": {
      "provenance": [],
      "authorship_tag": "ABX9TyOWGHY7r8Zm28nFit2VfYy9",
      "include_colab_link": true
    },
    "kernelspec": {
      "name": "python3",
      "display_name": "Python 3"
    },
    "language_info": {
      "name": "python"
    }
  },
  "cells": [
    {
      "cell_type": "markdown",
      "metadata": {
        "id": "view-in-github",
        "colab_type": "text"
      },
      "source": [
        "<a href=\"https://colab.research.google.com/github/mdmahabubalambishal/30-days-of-NLP/blob/main/day_2.ipynb\" target=\"_parent\"><img src=\"https://colab.research.google.com/assets/colab-badge.svg\" alt=\"Open In Colab\"/></a>"
      ]
    },
    {
      "source": [
        "#part of speech (POS) operation\n",
        "\n",
        "import nltk\n",
        "\n",
        "# Download the 'punkt_tab' resource\n",
        "nltk.download('punkt_tab')\n",
        "\n",
        "# part of speech tagging operation\n",
        "nltk.download('punkt')\n",
        "# Download the averaged_perceptron_tagger for English\n",
        "nltk.download('averaged_perceptron_tagger_eng')\n",
        "\n",
        "text = \"আমি ঢাকায় জন্মগ্রহণ করেছি।\"\n",
        "tokens = nltk.word_tokenize(text)\n",
        "\n",
        "#try to tag the Bengali text but it might give incorrect results due to language mismatch\n",
        "pos_tags = nltk.pos_tag(tokens, lang='eng')\n",
        "\n",
        "print(\"POS Tags:\", pos_tags)"
      ],
      "cell_type": "code",
      "metadata": {
        "colab": {
          "base_uri": "https://localhost:8080/"
        },
        "id": "2mZpE-H5drnK",
        "outputId": "24a47082-ec1f-4f9c-e8b9-b4b1ea571060"
      },
      "execution_count": 5,
      "outputs": [
        {
          "output_type": "stream",
          "name": "stdout",
          "text": [
            "POS Tags: [('আমি', 'JJ'), ('ঢাকায়', 'NNP'), ('জন্মগ্রহণ', 'NNP'), ('করেছি।', 'NN')]\n"
          ]
        },
        {
          "output_type": "stream",
          "name": "stderr",
          "text": [
            "[nltk_data] Downloading package punkt_tab to /root/nltk_data...\n",
            "[nltk_data]   Package punkt_tab is already up-to-date!\n",
            "[nltk_data] Downloading package punkt to /root/nltk_data...\n",
            "[nltk_data]   Package punkt is already up-to-date!\n",
            "[nltk_data] Downloading package averaged_perceptron_tagger_eng to\n",
            "[nltk_data]     /root/nltk_data...\n",
            "[nltk_data]   Package averaged_perceptron_tagger_eng is already up-to-\n",
            "[nltk_data]       date!\n"
          ]
        }
      ]
    },
    {
      "cell_type": "code",
      "source": [
        "#named entity recognition (NER) operation\n",
        "\n",
        "text = \"I was born in Dhaka and studied at Bangladesh University.I live in Chittagong.\"\n",
        "doc = nlp(text)\n",
        "for ent in doc.ents:\n",
        "    print(\"Entity:\", ent.text, \"| Label:\", ent.label_)"
      ],
      "metadata": {
        "colab": {
          "base_uri": "https://localhost:8080/"
        },
        "id": "dBBCKA9ndU6J",
        "outputId": "a1f427b1-6748-4337-95a2-2a0c5d2aa35b"
      },
      "execution_count": 17,
      "outputs": [
        {
          "output_type": "stream",
          "name": "stdout",
          "text": [
            "Entity: Dhaka | Label: GPE\n",
            "Entity: Bangladesh University | Label: ORG\n",
            "Entity: Chittagong | Label: GPE\n"
          ]
        }
      ]
    },
    {
      "cell_type": "code",
      "source": [],
      "metadata": {
        "id": "zB9JChDvhOdd"
      },
      "execution_count": null,
      "outputs": []
    }
  ]
}